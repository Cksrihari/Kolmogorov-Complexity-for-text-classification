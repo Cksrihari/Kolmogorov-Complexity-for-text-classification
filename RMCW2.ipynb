{
  "nbformat": 4,
  "nbformat_minor": 0,
  "metadata": {
    "colab": {
      "provenance": []
    },
    "kernelspec": {
      "name": "python3",
      "display_name": "Python 3"
    },
    "language_info": {
      "name": "python"
    }
  },
  "cells": [
    {
      "cell_type": "markdown",
      "source": [
        "# **Compression Libraries**"
      ],
      "metadata": {
        "id": "m7JWWunnfOdu"
      }
    },
    {
      "cell_type": "code",
      "source": [
        "from google.colab import drive\n",
        "drive.mount('/content/drive')"
      ],
      "metadata": {
        "id": "R39AHtE-7IC1"
      },
      "execution_count": null,
      "outputs": []
    },
    {
      "cell_type": "markdown",
      "source": [
        "##**Zlib**"
      ],
      "metadata": {
        "id": "u-lpe61LU4NR"
      }
    },
    {
      "cell_type": "markdown",
      "source": [
        "Lorem ipsum dolor sit amet, consectetur adipiscing elit. Sed ut magna velit. Mauris at libero nec justo vestibulum hendrerit. Nullam fringilla nisi non quam pharetra, vel lacinia elit lobortis. Vestibulum faucibus enim sit amet sodales malesuada. Nulla eu nunc tincidunt, commodo eros vitae, tincidunt sapien. Vivamus sed arcu justo. Phasellus ut feugiat orci. Nulla sed ex ut tortor faucibus commodo. Ut nec libero et eros bibendum luctus. Maecenas scelerisque ullamcorper mauris sit amet rhoncus. Sed quis metus nec quam congue facilisis vel at velit. Nullam nec velit quis tortor consequat mollis. Curabitur nec feugiat magna. Donec id suscipit lacus. Fusce fringilla risus ut varius vestibulum. Maecenas sed diam elit. Nam elementum, neque ac posuere eleifend, sem nisi eleifend nisi, in faucibus velit velit at elit. In et ex sem. Curabitur consequat erat sed mauris varius vulputate. Pellentesque viverra, turpis at tempor ultricies, elit enim varius lectus, eget tincidunt arcu velit nec nibh. Fusce pellentesque convallis venenatis. In ut malesuada velit. Phasellus non eros ut libero fermentum fringilla. Mauris ultrices vestibulum nisi nec eleifend. Nullam sed libero vehicula, dignissim turpis vitae, scelerisque nunc. Ut efficitur ullamcorper augue, sit amet fringilla mauris gravida et. Morbi et nunc a justo eleifend pellentesque. Nulla facilisi. Maecenas fermentum volutpat libero, sit amet bibendum libero dapibus id. Quisque bibendum id odio ac fringilla. Pellentesque habitant morbi tristique senectus et netus et malesuada fames ac turpis egestas. Nam maximus purus vitae libero tempor, eget suscipit nunc luctus. Morbi et magna a lorem posuere pretium. Vestibulum ante ipsum primis in faucibus orci luctus et ultrices posuere cubilia Curae; Nam id tempor dui. Vestibulum dapibus justo ut metus placerat, at dapibus ligula congue. Donec nec efficitur felis. Nullam suscipit sapien in risus convallis dictum. Integer gravida felis a libero faucibus bibendum. Phasellus porttitor, nisl sed vestibulum lobortis, eros leo bibendum dui, a elementum erat ligula a metus. Proin in odio lacinia, pellentesque risus et, ultricies tortor. Fusce ultricies varius ligula, sed sollicitudin nisi vehicula sit amet. Cras dignissim tincidunt elit non maximus. Cras pulvinar est non risus tempor blandit. Vestibulum ante ipsum primis in faucibus\n"
      ],
      "metadata": {
        "id": "rQycd8OKXqE_"
      }
    },
    {
      "cell_type": "code",
      "source": [
        "import sys\n",
        "import zlib\n",
        "import time\n",
        "start=time.time()\n",
        "string = \"\"\"Lorem ipsum dolor sit amet, consectetur adipiscing elit. Sed ut magna velit. Mauris at libero nec justo vestibulum hendrerit. Nullam fringilla nisi non quam pharetra, vel lacinia elit lobortis. Vestibulum faucibus enim sit amet sodales malesuada. Nulla eu nunc tincidunt, commodo eros vitae, tincidunt sapien. Vivamus sed arcu justo. Phasellus ut feugiat orci. Nulla sed ex ut tortor faucibus commodo. Ut nec libero et eros bibendum luctus. Maecenas scelerisque ullamcorper mauris sit amet rhoncus. Sed quis metus nec quam congue facilisis vel at velit. Nullam nec velit quis tortor consequat mollis. Curabitur nec feugiat magna. Donec id suscipit lacus. Fusce fringilla risus ut varius vestibulum. Maecenas sed diam elit. Nam elementum, neque ac posuere eleifend, sem nisi eleifend nisi, in faucibus velit velit at elit. In et ex sem. Curabitur consequat erat sed mauris varius vulputate. Pellentesque viverra, turpis at tempor ultricies, elit enim varius lectus, eget tincidunt arcu velit nec nibh. Fusce pellentesque convallis venenatis. In ut malesuada velit. Phasellus non eros ut libero fermentum fringilla. Mauris ultrices vestibulum nisi nec eleifend. Nullam sed libero vehicula, dignissim turpis vitae, scelerisque nunc. Ut efficitur ullamcorper augue, sit amet fringilla mauris gravida et. Morbi et nunc a justo eleifend pellentesque. Nulla facilisi. Maecenas fermentum volutpat libero, sit amet bibendum libero dapibus id. Quisque bibendum id odio ac fringilla. Pellentesque habitant morbi tristique senectus et netus et malesuada fames ac turpis egestas. Nam maximus purus vitae libero tempor, eget suscipit nunc luctus. Morbi et magna a lorem posuere pretium. Vestibulum ante ipsum primis in faucibus orci luctus et ultrices posuere cubilia Curae; Nam id tempor dui. Vestibulum dapibus justo ut metus placerat, at dapibus ligula congue. Donec nec efficitur felis. Nullam suscipit sapien in risus convallis dictum. Integer gravida felis a libero faucibus bibendum. Phasellus porttitor, nisl sed vestibulum lobortis, eros leo bibendum dui, a elementum erat ligula a metus. Proin in odio lacinia, pellentesque risus et, ultricies tortor. Fusce ultricies varius ligula, sed sollicitudin nisi vehicula sit amet. Cras dignissim tincidunt elit non maximus. Cras pulvinar est non risus tempor blandit. Vestibulum ante ipsum primis in faucibus\n",
        "\"\"\"\n",
        "comp_string = zlib.compress(string.encode())\n",
        "end=time.time()\n",
        "print(len(string) / len(comp_string))\n",
        "print(end-start)"
      ],
      "metadata": {
        "id": "hA6wAtUN085p",
        "colab": {
          "base_uri": "https://localhost:8080/"
        },
        "outputId": "c12e1469-cf27-486b-aa44-b484b1237c1a"
      },
      "execution_count": null,
      "outputs": [
        {
          "output_type": "stream",
          "name": "stdout",
          "text": [
            "2.3934760448521915\n",
            "0.007964849472045898\n"
          ]
        }
      ]
    },
    {
      "cell_type": "markdown",
      "source": [
        "##**Bz2**"
      ],
      "metadata": {
        "id": "2ic6s2YdWJuU"
      }
    },
    {
      "cell_type": "code",
      "source": [
        "import bz2\n",
        "import time\n",
        "start=time.time()\n",
        "string = \"\"\"\n",
        "Lorem ipsum dolor sit amet, consectetur adipiscing elit. Sed ut magna velit. Mauris at libero nec justo vestibulum hendrerit. Nullam fringilla nisi non quam pharetra, vel lacinia elit lobortis. Vestibulum faucibus enim sit amet sodales malesuada. Nulla eu nunc tincidunt, commodo eros vitae, tincidunt sapien. Vivamus sed arcu justo. Phasellus ut feugiat orci. Nulla sed ex ut tortor faucibus commodo. Ut nec libero et eros bibendum luctus. Maecenas scelerisque ullamcorper mauris sit amet rhoncus. Sed quis metus nec quam congue facilisis vel at velit. Nullam nec velit quis tortor consequat mollis. Curabitur nec feugiat magna. Donec id suscipit lacus. Fusce fringilla risus ut varius vestibulum. Maecenas sed diam elit. Nam elementum, neque ac posuere eleifend, sem nisi eleifend nisi, in faucibus velit velit at elit. In et ex sem. Curabitur consequat erat sed mauris varius vulputate. Pellentesque viverra, turpis at tempor ultricies, elit enim varius lectus, eget tincidunt arcu velit nec nibh. Fusce pellentesque convallis venenatis. In ut malesuada velit. Phasellus non eros ut libero fermentum fringilla. Mauris ultrices vestibulum nisi nec eleifend. Nullam sed libero vehicula, dignissim turpis vitae, scelerisque nunc. Ut efficitur ullamcorper augue, sit amet fringilla mauris gravida et. Morbi et nunc a justo eleifend pellentesque. Nulla facilisi. Maecenas fermentum volutpat libero, sit amet bibendum libero dapibus id. Quisque bibendum id odio ac fringilla. Pellentesque habitant morbi tristique senectus et netus et malesuada fames ac turpis egestas. Nam maximus purus vitae libero tempor, eget suscipit nunc luctus. Morbi et magna a lorem posuere pretium. Vestibulum ante ipsum primis in faucibus orci luctus et ultrices posuere cubilia Curae; Nam id tempor dui. Vestibulum dapibus justo ut metus placerat, at dapibus ligula congue. Donec nec efficitur felis. Nullam suscipit sapien in risus convallis dictum. Integer gravida felis a libero faucibus bibendum. Phasellus porttitor, nisl sed vestibulum lobortis, eros leo bibendum dui, a elementum erat ligula a metus. Proin in odio lacinia, pellentesque risus et, ultricies tortor. Fusce ultricies varius ligula, sed sollicitudin nisi vehicula sit amet. Cras dignissim tincidunt elit non maximus. Cras pulvinar est non risus tempor blandit. Vestibulum ante ipsum primis in faucibus\n",
        "\"\"\"\n",
        "comp_string  = bz2.compress(string.encode())\n",
        "end=time.time()\n",
        "print(len(string) / len(comp_string))\n",
        "print(end-start)"
      ],
      "metadata": {
        "colab": {
          "base_uri": "https://localhost:8080/"
        },
        "id": "-kxygN11WlCP",
        "outputId": "af11f664-b331-4a47-c546-7257f510e35f"
      },
      "execution_count": null,
      "outputs": [
        {
          "output_type": "stream",
          "name": "stdout",
          "text": [
            "2.4166666666666665\n",
            "0.0012454986572265625\n"
          ]
        }
      ]
    },
    {
      "cell_type": "markdown",
      "source": [
        "## **Gzip**"
      ],
      "metadata": {
        "id": "aT3JWzQHXXdd"
      }
    },
    {
      "cell_type": "code",
      "source": [
        "import gzip\n",
        "import time\n",
        "start=time.time()\n",
        "string = \"\"\"\n",
        "Lorem ipsum dolor sit amet, consectetur adipiscing elit. Sed ut magna velit. Mauris at libero nec justo vestibulum hendrerit. Nullam fringilla nisi non quam pharetra, vel lacinia elit lobortis. Vestibulum faucibus enim sit amet sodales malesuada. Nulla eu nunc tincidunt, commodo eros vitae, tincidunt sapien. Vivamus sed arcu justo. Phasellus ut feugiat orci. Nulla sed ex ut tortor faucibus commodo. Ut nec libero et eros bibendum luctus. Maecenas scelerisque ullamcorper mauris sit amet rhoncus. Sed quis metus nec quam congue facilisis vel at velit. Nullam nec velit quis tortor consequat mollis. Curabitur nec feugiat magna. Donec id suscipit lacus. Fusce fringilla risus ut varius vestibulum. Maecenas sed diam elit. Nam elementum, neque ac posuere eleifend, sem nisi eleifend nisi, in faucibus velit velit at elit. In et ex sem. Curabitur consequat erat sed mauris varius vulputate. Pellentesque viverra, turpis at tempor ultricies, elit enim varius lectus, eget tincidunt arcu velit nec nibh. Fusce pellentesque convallis venenatis. In ut malesuada velit. Phasellus non eros ut libero fermentum fringilla. Mauris ultrices vestibulum nisi nec eleifend. Nullam sed libero vehicula, dignissim turpis vitae, scelerisque nunc. Ut efficitur ullamcorper augue, sit amet fringilla mauris gravida et. Morbi et nunc a justo eleifend pellentesque. Nulla facilisi. Maecenas fermentum volutpat libero, sit amet bibendum libero dapibus id. Quisque bibendum id odio ac fringilla. Pellentesque habitant morbi tristique senectus et netus et malesuada fames ac turpis egestas. Nam maximus purus vitae libero tempor, eget suscipit nunc luctus. Morbi et magna a lorem posuere pretium. Vestibulum ante ipsum primis in faucibus orci luctus et ultrices posuere cubilia Curae; Nam id tempor dui. Vestibulum dapibus justo ut metus placerat, at dapibus ligula congue. Donec nec efficitur felis. Nullam suscipit sapien in risus convallis dictum. Integer gravida felis a libero faucibus bibendum. Phasellus porttitor, nisl sed vestibulum lobortis, eros leo bibendum dui, a elementum erat ligula a metus. Proin in odio lacinia, pellentesque risus et, ultricies tortor. Fusce ultricies varius ligula, sed sollicitudin nisi vehicula sit amet. Cras dignissim tincidunt elit non maximus. Cras pulvinar est non risus tempor blandit. Vestibulum ante ipsum primis in faucibus\n",
        "\"\"\"\n",
        "comp_string  = gzip.compress(string.encode())\n",
        "end=time.time()\n",
        "print(len(string) / len(comp_string))\n",
        "print(end-start)"
      ],
      "metadata": {
        "colab": {
          "base_uri": "https://localhost:8080/"
        },
        "id": "2iz24AUCXnCJ",
        "outputId": "5be35333-ae5f-4afe-c926-34848acccf37"
      },
      "execution_count": null,
      "outputs": [
        {
          "output_type": "stream",
          "name": "stdout",
          "text": [
            "2.36317907444668\n",
            "0.0012977123260498047\n"
          ]
        }
      ]
    },
    {
      "cell_type": "code",
      "source": [
        "import lzma\n",
        "import time\n",
        "start=time.time()\n",
        "data_in = b\"\"\"\n",
        "Lorem ipsum dolor sit amet, consectetur adipiscing elit. Sed ut magna velit. Mauris at libero nec justo vestibulum hendrerit. Nullam fringilla nisi non quam pharetra, vel lacinia elit lobortis. Vestibulum faucibus enim sit amet sodales malesuada. Nulla eu nunc tincidunt, commodo eros vitae, tincidunt sapien. Vivamus sed arcu justo. Phasellus ut feugiat orci. Nulla sed ex ut tortor faucibus commodo. Ut nec libero et eros bibendum luctus. Maecenas scelerisque ullamcorper mauris sit amet rhoncus. Sed quis metus nec quam congue facilisis vel at velit. Nullam nec velit quis tortor consequat mollis. Curabitur nec feugiat magna. Donec id suscipit lacus. Fusce fringilla risus ut varius vestibulum. Maecenas sed diam elit. Nam elementum, neque ac posuere eleifend, sem nisi eleifend nisi, in faucibus velit velit at elit. In et ex sem. Curabitur consequat erat sed mauris varius vulputate. Pellentesque viverra, turpis at tempor ultricies, elit enim varius lectus, eget tincidunt arcu velit nec nibh. Fusce pellentesque convallis venenatis. In ut malesuada velit. Phasellus non eros ut libero fermentum fringilla. Mauris ultrices vestibulum nisi nec eleifend. Nullam sed libero vehicula, dignissim turpis vitae, scelerisque nunc. Ut efficitur ullamcorper augue, sit amet fringilla mauris gravida et. Morbi et nunc a justo eleifend pellentesque. Nulla facilisi. Maecenas fermentum volutpat libero, sit amet bibendum libero dapibus id. Quisque bibendum id odio ac fringilla. Pellentesque habitant morbi tristique senectus et netus et malesuada fames ac turpis egestas. Nam maximus purus vitae libero tempor, eget suscipit nunc luctus. Morbi et magna a lorem posuere pretium. Vestibulum ante ipsum primis in faucibus orci luctus et ultrices posuere cubilia Curae; Nam id tempor dui. Vestibulum dapibus justo ut metus placerat, at dapibus ligula congue. Donec nec efficitur felis. Nullam suscipit sapien in risus convallis dictum. Integer gravida felis a libero faucibus bibendum. Phasellus porttitor, nisl sed vestibulum lobortis, eros leo bibendum dui, a elementum erat ligula a metus. Proin in odio lacinia, pellentesque risus et, ultricies tortor. Fusce ultricies varius ligula, sed sollicitudin nisi vehicula sit amet. Cras dignissim tincidunt elit non maximus. Cras pulvinar est non risus tempor blandit. Vestibulum ante ipsum primis in faucibus\n",
        "\"\"\"\n",
        "data_out = lzma.compress(data_in)\n",
        "\n",
        "end=time.time()\n",
        "print(len(data_in) / len(data_out))\n",
        "print(end-start)"
      ],
      "metadata": {
        "colab": {
          "base_uri": "https://localhost:8080/"
        },
        "id": "zsqePVZAOKCn",
        "outputId": "d187ae16-6f59-4b40-ba2f-d5be56c1669e"
      },
      "execution_count": null,
      "outputs": [
        {
          "output_type": "stream",
          "name": "stdout",
          "text": [
            "2.1590073529411766\n",
            "0.004653215408325195\n"
          ]
        }
      ]
    },
    {
      "cell_type": "code",
      "source": [
        "import zipfile\n",
        "with zipfile.ZipFile('new_archive.zip', 'w') as zip_ref:\n",
        "    zip_ref.write('file1.txt')\n",
        "with zipfile.ZipFile('new_archive.zip', 'r') as zip_ref:\n",
        "    for info in zip_ref.infolist():\n",
        "        print(info.filename, info.file_size, info.compress_size)\n",
        "\n",
        "\n",
        "        # Initial file sizw: 502 bytes\n",
        "        # File size after compression: 618 bytes\n",
        "        # Also tired with bigger inputs, it is just zipping the file, no difference in the size\n",
        "        # Unable to run this here because its not reading files from my local system"
      ],
      "metadata": {
        "colab": {
          "base_uri": "https://localhost:8080/"
        },
        "id": "XSVpOI7IOLhH",
        "outputId": "abf89a9b-ad6f-45dd-e07e-728ccf474130"
      },
      "execution_count": null,
      "outputs": [
        {
          "output_type": "stream",
          "name": "stdout",
          "text": [
            "file1.txt 502 502\n"
          ]
        }
      ]
    },
    {
      "cell_type": "code",
      "source": [
        "import tarfile\n",
        "import os\n",
        "\n",
        "initial_size = os.path.getsize(\"sample.txt\")\n",
        "with tarfile.open(\"save.tar.gz\",\"w:gz\") as tar:\n",
        "      for file in [\"sample.txt\"]:\n",
        "           tar.add(os.path.basename(file))\n",
        "\n",
        "compressed_size = os.path.getsize(\"save.tar.gz\")\n",
        "print(f\"Initial size of 'sample.txt': {initial_size} bytes\")\n",
        "print(f\"Compressed size of 'sample.txt' in save.tar.gz: {compressed_size} bytes\")"
      ],
      "metadata": {
        "id": "w4jpm6DsOLZz",
        "colab": {
          "base_uri": "https://localhost:8080/"
        },
        "outputId": "b09eae10-b25c-43ba-ad94-eef68c94692a"
      },
      "execution_count": null,
      "outputs": [
        {
          "output_type": "stream",
          "name": "stdout",
          "text": [
            "Initial size of 'sample.txt': 507 bytes\n",
            "Compressed size of 'sample.txt' in save.tar.gz: 504 bytes\n"
          ]
        }
      ]
    },
    {
      "cell_type": "markdown",
      "source": [
        "# **Classification Model**"
      ],
      "metadata": {
        "id": "3pucfDHafgcu"
      }
    },
    {
      "cell_type": "markdown",
      "source": [
        "## **Naive Bayes Model (W/O Kolmogorov approximation)**"
      ],
      "metadata": {
        "id": "AK-C5OuHX6Qw"
      }
    },
    {
      "cell_type": "code",
      "source": [
        "import numpy as np\n",
        "import pandas as pd\n",
        "import seaborn as sns\n",
        "import matplotlib.pyplot as plt\n",
        "from sklearn.feature_extraction.text import CountVectorizer\n",
        "from sklearn.model_selection import train_test_split\n",
        "from sklearn.metrics import accuracy_score, precision_score, recall_score, f1_score,confusion_matrix\n",
        "from sklearn.utils import shuffle\n",
        "from sklearn.naive_bayes import MultinomialNB"
      ],
      "metadata": {
        "id": "oXVkJxopZ38f"
      },
      "execution_count": null,
      "outputs": []
    },
    {
      "cell_type": "code",
      "source": [
        "data = pd.read_csv('email.csv')\n",
        "data.head()"
      ],
      "metadata": {
        "colab": {
          "base_uri": "https://localhost:8080/",
          "height": 206
        },
        "id": "-_ZOGhP9YBa4",
        "outputId": "eae885d9-3bc4-40f6-9eb6-9e9a64659e36"
      },
      "execution_count": null,
      "outputs": [
        {
          "output_type": "execute_result",
          "data": {
            "text/plain": [
              "  Category                                            Message\n",
              "0      ham  Go until jurong point, crazy.. Available only ...\n",
              "1      ham                      Ok lar... Joking wif u oni...\n",
              "2     spam  Free entry in 2 a wkly comp to win FA Cup fina...\n",
              "3      ham  U dun say so early hor... U c already then say...\n",
              "4      ham  Nah I don't think he goes to usf, he lives aro..."
            ],
            "text/html": [
              "\n",
              "  <div id=\"df-2f8f6afc-53d9-4fc6-860f-ba0aad7544ee\" class=\"colab-df-container\">\n",
              "    <div>\n",
              "<style scoped>\n",
              "    .dataframe tbody tr th:only-of-type {\n",
              "        vertical-align: middle;\n",
              "    }\n",
              "\n",
              "    .dataframe tbody tr th {\n",
              "        vertical-align: top;\n",
              "    }\n",
              "\n",
              "    .dataframe thead th {\n",
              "        text-align: right;\n",
              "    }\n",
              "</style>\n",
              "<table border=\"1\" class=\"dataframe\">\n",
              "  <thead>\n",
              "    <tr style=\"text-align: right;\">\n",
              "      <th></th>\n",
              "      <th>Category</th>\n",
              "      <th>Message</th>\n",
              "    </tr>\n",
              "  </thead>\n",
              "  <tbody>\n",
              "    <tr>\n",
              "      <th>0</th>\n",
              "      <td>ham</td>\n",
              "      <td>Go until jurong point, crazy.. Available only ...</td>\n",
              "    </tr>\n",
              "    <tr>\n",
              "      <th>1</th>\n",
              "      <td>ham</td>\n",
              "      <td>Ok lar... Joking wif u oni...</td>\n",
              "    </tr>\n",
              "    <tr>\n",
              "      <th>2</th>\n",
              "      <td>spam</td>\n",
              "      <td>Free entry in 2 a wkly comp to win FA Cup fina...</td>\n",
              "    </tr>\n",
              "    <tr>\n",
              "      <th>3</th>\n",
              "      <td>ham</td>\n",
              "      <td>U dun say so early hor... U c already then say...</td>\n",
              "    </tr>\n",
              "    <tr>\n",
              "      <th>4</th>\n",
              "      <td>ham</td>\n",
              "      <td>Nah I don't think he goes to usf, he lives aro...</td>\n",
              "    </tr>\n",
              "  </tbody>\n",
              "</table>\n",
              "</div>\n",
              "    <div class=\"colab-df-buttons\">\n",
              "\n",
              "  <div class=\"colab-df-container\">\n",
              "    <button class=\"colab-df-convert\" onclick=\"convertToInteractive('df-2f8f6afc-53d9-4fc6-860f-ba0aad7544ee')\"\n",
              "            title=\"Convert this dataframe to an interactive table.\"\n",
              "            style=\"display:none;\">\n",
              "\n",
              "  <svg xmlns=\"http://www.w3.org/2000/svg\" height=\"24px\" viewBox=\"0 -960 960 960\">\n",
              "    <path d=\"M120-120v-720h720v720H120Zm60-500h600v-160H180v160Zm220 220h160v-160H400v160Zm0 220h160v-160H400v160ZM180-400h160v-160H180v160Zm440 0h160v-160H620v160ZM180-180h160v-160H180v160Zm440 0h160v-160H620v160Z\"/>\n",
              "  </svg>\n",
              "    </button>\n",
              "\n",
              "  <style>\n",
              "    .colab-df-container {\n",
              "      display:flex;\n",
              "      gap: 12px;\n",
              "    }\n",
              "\n",
              "    .colab-df-convert {\n",
              "      background-color: #E8F0FE;\n",
              "      border: none;\n",
              "      border-radius: 50%;\n",
              "      cursor: pointer;\n",
              "      display: none;\n",
              "      fill: #1967D2;\n",
              "      height: 32px;\n",
              "      padding: 0 0 0 0;\n",
              "      width: 32px;\n",
              "    }\n",
              "\n",
              "    .colab-df-convert:hover {\n",
              "      background-color: #E2EBFA;\n",
              "      box-shadow: 0px 1px 2px rgba(60, 64, 67, 0.3), 0px 1px 3px 1px rgba(60, 64, 67, 0.15);\n",
              "      fill: #174EA6;\n",
              "    }\n",
              "\n",
              "    .colab-df-buttons div {\n",
              "      margin-bottom: 4px;\n",
              "    }\n",
              "\n",
              "    [theme=dark] .colab-df-convert {\n",
              "      background-color: #3B4455;\n",
              "      fill: #D2E3FC;\n",
              "    }\n",
              "\n",
              "    [theme=dark] .colab-df-convert:hover {\n",
              "      background-color: #434B5C;\n",
              "      box-shadow: 0px 1px 3px 1px rgba(0, 0, 0, 0.15);\n",
              "      filter: drop-shadow(0px 1px 2px rgba(0, 0, 0, 0.3));\n",
              "      fill: #FFFFFF;\n",
              "    }\n",
              "  </style>\n",
              "\n",
              "    <script>\n",
              "      const buttonEl =\n",
              "        document.querySelector('#df-2f8f6afc-53d9-4fc6-860f-ba0aad7544ee button.colab-df-convert');\n",
              "      buttonEl.style.display =\n",
              "        google.colab.kernel.accessAllowed ? 'block' : 'none';\n",
              "\n",
              "      async function convertToInteractive(key) {\n",
              "        const element = document.querySelector('#df-2f8f6afc-53d9-4fc6-860f-ba0aad7544ee');\n",
              "        const dataTable =\n",
              "          await google.colab.kernel.invokeFunction('convertToInteractive',\n",
              "                                                    [key], {});\n",
              "        if (!dataTable) return;\n",
              "\n",
              "        const docLinkHtml = 'Like what you see? Visit the ' +\n",
              "          '<a target=\"_blank\" href=https://colab.research.google.com/notebooks/data_table.ipynb>data table notebook</a>'\n",
              "          + ' to learn more about interactive tables.';\n",
              "        element.innerHTML = '';\n",
              "        dataTable['output_type'] = 'display_data';\n",
              "        await google.colab.output.renderOutput(dataTable, element);\n",
              "        const docLink = document.createElement('div');\n",
              "        docLink.innerHTML = docLinkHtml;\n",
              "        element.appendChild(docLink);\n",
              "      }\n",
              "    </script>\n",
              "  </div>\n",
              "\n",
              "\n",
              "<div id=\"df-58843135-a3bc-417c-a8a8-a57102b179f9\">\n",
              "  <button class=\"colab-df-quickchart\" onclick=\"quickchart('df-58843135-a3bc-417c-a8a8-a57102b179f9')\"\n",
              "            title=\"Suggest charts\"\n",
              "            style=\"display:none;\">\n",
              "\n",
              "<svg xmlns=\"http://www.w3.org/2000/svg\" height=\"24px\"viewBox=\"0 0 24 24\"\n",
              "     width=\"24px\">\n",
              "    <g>\n",
              "        <path d=\"M19 3H5c-1.1 0-2 .9-2 2v14c0 1.1.9 2 2 2h14c1.1 0 2-.9 2-2V5c0-1.1-.9-2-2-2zM9 17H7v-7h2v7zm4 0h-2V7h2v10zm4 0h-2v-4h2v4z\"/>\n",
              "    </g>\n",
              "</svg>\n",
              "  </button>\n",
              "\n",
              "<style>\n",
              "  .colab-df-quickchart {\n",
              "      --bg-color: #E8F0FE;\n",
              "      --fill-color: #1967D2;\n",
              "      --hover-bg-color: #E2EBFA;\n",
              "      --hover-fill-color: #174EA6;\n",
              "      --disabled-fill-color: #AAA;\n",
              "      --disabled-bg-color: #DDD;\n",
              "  }\n",
              "\n",
              "  [theme=dark] .colab-df-quickchart {\n",
              "      --bg-color: #3B4455;\n",
              "      --fill-color: #D2E3FC;\n",
              "      --hover-bg-color: #434B5C;\n",
              "      --hover-fill-color: #FFFFFF;\n",
              "      --disabled-bg-color: #3B4455;\n",
              "      --disabled-fill-color: #666;\n",
              "  }\n",
              "\n",
              "  .colab-df-quickchart {\n",
              "    background-color: var(--bg-color);\n",
              "    border: none;\n",
              "    border-radius: 50%;\n",
              "    cursor: pointer;\n",
              "    display: none;\n",
              "    fill: var(--fill-color);\n",
              "    height: 32px;\n",
              "    padding: 0;\n",
              "    width: 32px;\n",
              "  }\n",
              "\n",
              "  .colab-df-quickchart:hover {\n",
              "    background-color: var(--hover-bg-color);\n",
              "    box-shadow: 0 1px 2px rgba(60, 64, 67, 0.3), 0 1px 3px 1px rgba(60, 64, 67, 0.15);\n",
              "    fill: var(--button-hover-fill-color);\n",
              "  }\n",
              "\n",
              "  .colab-df-quickchart-complete:disabled,\n",
              "  .colab-df-quickchart-complete:disabled:hover {\n",
              "    background-color: var(--disabled-bg-color);\n",
              "    fill: var(--disabled-fill-color);\n",
              "    box-shadow: none;\n",
              "  }\n",
              "\n",
              "  .colab-df-spinner {\n",
              "    border: 2px solid var(--fill-color);\n",
              "    border-color: transparent;\n",
              "    border-bottom-color: var(--fill-color);\n",
              "    animation:\n",
              "      spin 1s steps(1) infinite;\n",
              "  }\n",
              "\n",
              "  @keyframes spin {\n",
              "    0% {\n",
              "      border-color: transparent;\n",
              "      border-bottom-color: var(--fill-color);\n",
              "      border-left-color: var(--fill-color);\n",
              "    }\n",
              "    20% {\n",
              "      border-color: transparent;\n",
              "      border-left-color: var(--fill-color);\n",
              "      border-top-color: var(--fill-color);\n",
              "    }\n",
              "    30% {\n",
              "      border-color: transparent;\n",
              "      border-left-color: var(--fill-color);\n",
              "      border-top-color: var(--fill-color);\n",
              "      border-right-color: var(--fill-color);\n",
              "    }\n",
              "    40% {\n",
              "      border-color: transparent;\n",
              "      border-right-color: var(--fill-color);\n",
              "      border-top-color: var(--fill-color);\n",
              "    }\n",
              "    60% {\n",
              "      border-color: transparent;\n",
              "      border-right-color: var(--fill-color);\n",
              "    }\n",
              "    80% {\n",
              "      border-color: transparent;\n",
              "      border-right-color: var(--fill-color);\n",
              "      border-bottom-color: var(--fill-color);\n",
              "    }\n",
              "    90% {\n",
              "      border-color: transparent;\n",
              "      border-bottom-color: var(--fill-color);\n",
              "    }\n",
              "  }\n",
              "</style>\n",
              "\n",
              "  <script>\n",
              "    async function quickchart(key) {\n",
              "      const quickchartButtonEl =\n",
              "        document.querySelector('#' + key + ' button');\n",
              "      quickchartButtonEl.disabled = true;  // To prevent multiple clicks.\n",
              "      quickchartButtonEl.classList.add('colab-df-spinner');\n",
              "      try {\n",
              "        const charts = await google.colab.kernel.invokeFunction(\n",
              "            'suggestCharts', [key], {});\n",
              "      } catch (error) {\n",
              "        console.error('Error during call to suggestCharts:', error);\n",
              "      }\n",
              "      quickchartButtonEl.classList.remove('colab-df-spinner');\n",
              "      quickchartButtonEl.classList.add('colab-df-quickchart-complete');\n",
              "    }\n",
              "    (() => {\n",
              "      let quickchartButtonEl =\n",
              "        document.querySelector('#df-58843135-a3bc-417c-a8a8-a57102b179f9 button');\n",
              "      quickchartButtonEl.style.display =\n",
              "        google.colab.kernel.accessAllowed ? 'block' : 'none';\n",
              "    })();\n",
              "  </script>\n",
              "</div>\n",
              "    </div>\n",
              "  </div>\n"
            ],
            "application/vnd.google.colaboratory.intrinsic+json": {
              "type": "dataframe",
              "variable_name": "data",
              "summary": "{\n  \"name\": \"data\",\n  \"rows\": 5573,\n  \"fields\": [\n    {\n      \"column\": \"Category\",\n      \"properties\": {\n        \"dtype\": \"category\",\n        \"num_unique_values\": 3,\n        \"samples\": [\n          \"ham\",\n          \"spam\",\n          \"{\\\"mode\\\":\\\"full\\\"\"\n        ],\n        \"semantic_type\": \"\",\n        \"description\": \"\"\n      }\n    },\n    {\n      \"column\": \"Message\",\n      \"properties\": {\n        \"dtype\": \"string\",\n        \"num_unique_values\": 5158,\n        \"samples\": [\n          \"&lt;#&gt;  am I think? Should say on syllabus\",\n          \"Yar lor... How u noe? U used dat route too?\",\n          \"En chikku nange bakra msg kalstiya..then had tea/coffee?\"\n        ],\n        \"semantic_type\": \"\",\n        \"description\": \"\"\n      }\n    }\n  ]\n}"
            }
          },
          "metadata": {},
          "execution_count": 18
        }
      ]
    },
    {
      "cell_type": "code",
      "source": [
        "data = data[data['Category'] != '{\"mode\":\"full\"']\n",
        "data = data.drop_duplicates()"
      ],
      "metadata": {
        "id": "tqDM3fe5aApK"
      },
      "execution_count": null,
      "outputs": []
    },
    {
      "cell_type": "code",
      "source": [
        "data['Category'] = data['Category'].map({'ham': 0, 'spam': 1})\n",
        "data.head()"
      ],
      "metadata": {
        "colab": {
          "base_uri": "https://localhost:8080/",
          "height": 206
        },
        "id": "O12ixw4faTtL",
        "outputId": "6ce74b7c-5cf9-4498-ea4c-b72bab365705"
      },
      "execution_count": null,
      "outputs": [
        {
          "output_type": "execute_result",
          "data": {
            "text/plain": [
              "   Category                                            Message\n",
              "0         0  Go until jurong point, crazy.. Available only ...\n",
              "1         0                      Ok lar... Joking wif u oni...\n",
              "2         1  Free entry in 2 a wkly comp to win FA Cup fina...\n",
              "3         0  U dun say so early hor... U c already then say...\n",
              "4         0  Nah I don't think he goes to usf, he lives aro..."
            ],
            "text/html": [
              "\n",
              "  <div id=\"df-cd7560dc-14cd-4ad0-b371-f991d49a9eb6\" class=\"colab-df-container\">\n",
              "    <div>\n",
              "<style scoped>\n",
              "    .dataframe tbody tr th:only-of-type {\n",
              "        vertical-align: middle;\n",
              "    }\n",
              "\n",
              "    .dataframe tbody tr th {\n",
              "        vertical-align: top;\n",
              "    }\n",
              "\n",
              "    .dataframe thead th {\n",
              "        text-align: right;\n",
              "    }\n",
              "</style>\n",
              "<table border=\"1\" class=\"dataframe\">\n",
              "  <thead>\n",
              "    <tr style=\"text-align: right;\">\n",
              "      <th></th>\n",
              "      <th>Category</th>\n",
              "      <th>Message</th>\n",
              "    </tr>\n",
              "  </thead>\n",
              "  <tbody>\n",
              "    <tr>\n",
              "      <th>0</th>\n",
              "      <td>0</td>\n",
              "      <td>Go until jurong point, crazy.. Available only ...</td>\n",
              "    </tr>\n",
              "    <tr>\n",
              "      <th>1</th>\n",
              "      <td>0</td>\n",
              "      <td>Ok lar... Joking wif u oni...</td>\n",
              "    </tr>\n",
              "    <tr>\n",
              "      <th>2</th>\n",
              "      <td>1</td>\n",
              "      <td>Free entry in 2 a wkly comp to win FA Cup fina...</td>\n",
              "    </tr>\n",
              "    <tr>\n",
              "      <th>3</th>\n",
              "      <td>0</td>\n",
              "      <td>U dun say so early hor... U c already then say...</td>\n",
              "    </tr>\n",
              "    <tr>\n",
              "      <th>4</th>\n",
              "      <td>0</td>\n",
              "      <td>Nah I don't think he goes to usf, he lives aro...</td>\n",
              "    </tr>\n",
              "  </tbody>\n",
              "</table>\n",
              "</div>\n",
              "    <div class=\"colab-df-buttons\">\n",
              "\n",
              "  <div class=\"colab-df-container\">\n",
              "    <button class=\"colab-df-convert\" onclick=\"convertToInteractive('df-cd7560dc-14cd-4ad0-b371-f991d49a9eb6')\"\n",
              "            title=\"Convert this dataframe to an interactive table.\"\n",
              "            style=\"display:none;\">\n",
              "\n",
              "  <svg xmlns=\"http://www.w3.org/2000/svg\" height=\"24px\" viewBox=\"0 -960 960 960\">\n",
              "    <path d=\"M120-120v-720h720v720H120Zm60-500h600v-160H180v160Zm220 220h160v-160H400v160Zm0 220h160v-160H400v160ZM180-400h160v-160H180v160Zm440 0h160v-160H620v160ZM180-180h160v-160H180v160Zm440 0h160v-160H620v160Z\"/>\n",
              "  </svg>\n",
              "    </button>\n",
              "\n",
              "  <style>\n",
              "    .colab-df-container {\n",
              "      display:flex;\n",
              "      gap: 12px;\n",
              "    }\n",
              "\n",
              "    .colab-df-convert {\n",
              "      background-color: #E8F0FE;\n",
              "      border: none;\n",
              "      border-radius: 50%;\n",
              "      cursor: pointer;\n",
              "      display: none;\n",
              "      fill: #1967D2;\n",
              "      height: 32px;\n",
              "      padding: 0 0 0 0;\n",
              "      width: 32px;\n",
              "    }\n",
              "\n",
              "    .colab-df-convert:hover {\n",
              "      background-color: #E2EBFA;\n",
              "      box-shadow: 0px 1px 2px rgba(60, 64, 67, 0.3), 0px 1px 3px 1px rgba(60, 64, 67, 0.15);\n",
              "      fill: #174EA6;\n",
              "    }\n",
              "\n",
              "    .colab-df-buttons div {\n",
              "      margin-bottom: 4px;\n",
              "    }\n",
              "\n",
              "    [theme=dark] .colab-df-convert {\n",
              "      background-color: #3B4455;\n",
              "      fill: #D2E3FC;\n",
              "    }\n",
              "\n",
              "    [theme=dark] .colab-df-convert:hover {\n",
              "      background-color: #434B5C;\n",
              "      box-shadow: 0px 1px 3px 1px rgba(0, 0, 0, 0.15);\n",
              "      filter: drop-shadow(0px 1px 2px rgba(0, 0, 0, 0.3));\n",
              "      fill: #FFFFFF;\n",
              "    }\n",
              "  </style>\n",
              "\n",
              "    <script>\n",
              "      const buttonEl =\n",
              "        document.querySelector('#df-cd7560dc-14cd-4ad0-b371-f991d49a9eb6 button.colab-df-convert');\n",
              "      buttonEl.style.display =\n",
              "        google.colab.kernel.accessAllowed ? 'block' : 'none';\n",
              "\n",
              "      async function convertToInteractive(key) {\n",
              "        const element = document.querySelector('#df-cd7560dc-14cd-4ad0-b371-f991d49a9eb6');\n",
              "        const dataTable =\n",
              "          await google.colab.kernel.invokeFunction('convertToInteractive',\n",
              "                                                    [key], {});\n",
              "        if (!dataTable) return;\n",
              "\n",
              "        const docLinkHtml = 'Like what you see? Visit the ' +\n",
              "          '<a target=\"_blank\" href=https://colab.research.google.com/notebooks/data_table.ipynb>data table notebook</a>'\n",
              "          + ' to learn more about interactive tables.';\n",
              "        element.innerHTML = '';\n",
              "        dataTable['output_type'] = 'display_data';\n",
              "        await google.colab.output.renderOutput(dataTable, element);\n",
              "        const docLink = document.createElement('div');\n",
              "        docLink.innerHTML = docLinkHtml;\n",
              "        element.appendChild(docLink);\n",
              "      }\n",
              "    </script>\n",
              "  </div>\n",
              "\n",
              "\n",
              "<div id=\"df-3afe1257-d817-4714-bccc-bd848d04973b\">\n",
              "  <button class=\"colab-df-quickchart\" onclick=\"quickchart('df-3afe1257-d817-4714-bccc-bd848d04973b')\"\n",
              "            title=\"Suggest charts\"\n",
              "            style=\"display:none;\">\n",
              "\n",
              "<svg xmlns=\"http://www.w3.org/2000/svg\" height=\"24px\"viewBox=\"0 0 24 24\"\n",
              "     width=\"24px\">\n",
              "    <g>\n",
              "        <path d=\"M19 3H5c-1.1 0-2 .9-2 2v14c0 1.1.9 2 2 2h14c1.1 0 2-.9 2-2V5c0-1.1-.9-2-2-2zM9 17H7v-7h2v7zm4 0h-2V7h2v10zm4 0h-2v-4h2v4z\"/>\n",
              "    </g>\n",
              "</svg>\n",
              "  </button>\n",
              "\n",
              "<style>\n",
              "  .colab-df-quickchart {\n",
              "      --bg-color: #E8F0FE;\n",
              "      --fill-color: #1967D2;\n",
              "      --hover-bg-color: #E2EBFA;\n",
              "      --hover-fill-color: #174EA6;\n",
              "      --disabled-fill-color: #AAA;\n",
              "      --disabled-bg-color: #DDD;\n",
              "  }\n",
              "\n",
              "  [theme=dark] .colab-df-quickchart {\n",
              "      --bg-color: #3B4455;\n",
              "      --fill-color: #D2E3FC;\n",
              "      --hover-bg-color: #434B5C;\n",
              "      --hover-fill-color: #FFFFFF;\n",
              "      --disabled-bg-color: #3B4455;\n",
              "      --disabled-fill-color: #666;\n",
              "  }\n",
              "\n",
              "  .colab-df-quickchart {\n",
              "    background-color: var(--bg-color);\n",
              "    border: none;\n",
              "    border-radius: 50%;\n",
              "    cursor: pointer;\n",
              "    display: none;\n",
              "    fill: var(--fill-color);\n",
              "    height: 32px;\n",
              "    padding: 0;\n",
              "    width: 32px;\n",
              "  }\n",
              "\n",
              "  .colab-df-quickchart:hover {\n",
              "    background-color: var(--hover-bg-color);\n",
              "    box-shadow: 0 1px 2px rgba(60, 64, 67, 0.3), 0 1px 3px 1px rgba(60, 64, 67, 0.15);\n",
              "    fill: var(--button-hover-fill-color);\n",
              "  }\n",
              "\n",
              "  .colab-df-quickchart-complete:disabled,\n",
              "  .colab-df-quickchart-complete:disabled:hover {\n",
              "    background-color: var(--disabled-bg-color);\n",
              "    fill: var(--disabled-fill-color);\n",
              "    box-shadow: none;\n",
              "  }\n",
              "\n",
              "  .colab-df-spinner {\n",
              "    border: 2px solid var(--fill-color);\n",
              "    border-color: transparent;\n",
              "    border-bottom-color: var(--fill-color);\n",
              "    animation:\n",
              "      spin 1s steps(1) infinite;\n",
              "  }\n",
              "\n",
              "  @keyframes spin {\n",
              "    0% {\n",
              "      border-color: transparent;\n",
              "      border-bottom-color: var(--fill-color);\n",
              "      border-left-color: var(--fill-color);\n",
              "    }\n",
              "    20% {\n",
              "      border-color: transparent;\n",
              "      border-left-color: var(--fill-color);\n",
              "      border-top-color: var(--fill-color);\n",
              "    }\n",
              "    30% {\n",
              "      border-color: transparent;\n",
              "      border-left-color: var(--fill-color);\n",
              "      border-top-color: var(--fill-color);\n",
              "      border-right-color: var(--fill-color);\n",
              "    }\n",
              "    40% {\n",
              "      border-color: transparent;\n",
              "      border-right-color: var(--fill-color);\n",
              "      border-top-color: var(--fill-color);\n",
              "    }\n",
              "    60% {\n",
              "      border-color: transparent;\n",
              "      border-right-color: var(--fill-color);\n",
              "    }\n",
              "    80% {\n",
              "      border-color: transparent;\n",
              "      border-right-color: var(--fill-color);\n",
              "      border-bottom-color: var(--fill-color);\n",
              "    }\n",
              "    90% {\n",
              "      border-color: transparent;\n",
              "      border-bottom-color: var(--fill-color);\n",
              "    }\n",
              "  }\n",
              "</style>\n",
              "\n",
              "  <script>\n",
              "    async function quickchart(key) {\n",
              "      const quickchartButtonEl =\n",
              "        document.querySelector('#' + key + ' button');\n",
              "      quickchartButtonEl.disabled = true;  // To prevent multiple clicks.\n",
              "      quickchartButtonEl.classList.add('colab-df-spinner');\n",
              "      try {\n",
              "        const charts = await google.colab.kernel.invokeFunction(\n",
              "            'suggestCharts', [key], {});\n",
              "      } catch (error) {\n",
              "        console.error('Error during call to suggestCharts:', error);\n",
              "      }\n",
              "      quickchartButtonEl.classList.remove('colab-df-spinner');\n",
              "      quickchartButtonEl.classList.add('colab-df-quickchart-complete');\n",
              "    }\n",
              "    (() => {\n",
              "      let quickchartButtonEl =\n",
              "        document.querySelector('#df-3afe1257-d817-4714-bccc-bd848d04973b button');\n",
              "      quickchartButtonEl.style.display =\n",
              "        google.colab.kernel.accessAllowed ? 'block' : 'none';\n",
              "    })();\n",
              "  </script>\n",
              "</div>\n",
              "    </div>\n",
              "  </div>\n"
            ],
            "application/vnd.google.colaboratory.intrinsic+json": {
              "type": "dataframe",
              "variable_name": "data",
              "summary": "{\n  \"name\": \"data\",\n  \"rows\": 5157,\n  \"fields\": [\n    {\n      \"column\": \"Category\",\n      \"properties\": {\n        \"dtype\": \"number\",\n        \"std\": 0,\n        \"min\": 0,\n        \"max\": 1,\n        \"num_unique_values\": 2,\n        \"samples\": [\n          1,\n          0\n        ],\n        \"semantic_type\": \"\",\n        \"description\": \"\"\n      }\n    },\n    {\n      \"column\": \"Message\",\n      \"properties\": {\n        \"dtype\": \"string\",\n        \"num_unique_values\": 5157,\n        \"samples\": [\n          \"Also sir, i sent you an email about how to log into the usc payment portal. I.ll send you another message that should explain how things are back home. Have a great weekend.\",\n          \"Are you free now?can i call now?\"\n        ],\n        \"semantic_type\": \"\",\n        \"description\": \"\"\n      }\n    }\n  ]\n}"
            }
          },
          "metadata": {},
          "execution_count": 20
        }
      ]
    },
    {
      "cell_type": "code",
      "source": [
        "#balancing the data\n",
        "data = data.reset_index(drop = True)\n",
        "indexes = np.arange(0, data.shape[0])\n",
        "np.random.seed(20)\n",
        "np.random.shuffle(indexes)\n",
        "shuffled_data = data.iloc[indexes]\n",
        "shuffled_data\n",
        "\n",
        "# Determine the indexes to delete\n",
        "indexes_to_delete = []\n",
        "n = shuffled_data['Category'].sum()\n",
        "ham_count = 0\n",
        "for i in range(0, shuffled_data.shape[0]):\n",
        "    if shuffled_data['Category'][i] == 0:\n",
        "        ham_count = ham_count + 1\n",
        "        if ham_count > n:\n",
        "            indexes_to_delete.append(i)\n",
        "\n",
        "\n",
        "data = shuffled_data.drop(indexes_to_delete)"
      ],
      "metadata": {
        "id": "X8uQozqsaVb_"
      },
      "execution_count": null,
      "outputs": []
    },
    {
      "cell_type": "code",
      "source": [
        "x = data['Message']\n",
        "y = data['Category']"
      ],
      "metadata": {
        "id": "THgwMElgaksr"
      },
      "execution_count": null,
      "outputs": []
    },
    {
      "cell_type": "code",
      "source": [
        "#Preprocessing message\n",
        "cv = CountVectorizer()\n",
        "x = cv.fit_transform(x)"
      ],
      "metadata": {
        "id": "yQe3ZD0Ca2mg"
      },
      "execution_count": null,
      "outputs": []
    },
    {
      "cell_type": "code",
      "source": [
        "#Splitting the dataset in train and test\n",
        "x_train, x_test, y_train, y_test = train_test_split(x, y, test_size = 0.2, shuffle = True, random_state = 42)"
      ],
      "metadata": {
        "id": "-c_-bUpBbCNJ"
      },
      "execution_count": null,
      "outputs": []
    },
    {
      "cell_type": "code",
      "source": [
        "#Training the model\n",
        "model = MultinomialNB()\n",
        "model.fit(x_train, y_train)"
      ],
      "metadata": {
        "colab": {
          "base_uri": "https://localhost:8080/",
          "height": 74
        },
        "id": "5ZifMTDSbZ-s",
        "outputId": "4600c425-3a4a-482c-e8cc-8c26aafcbe26"
      },
      "execution_count": null,
      "outputs": [
        {
          "output_type": "execute_result",
          "data": {
            "text/plain": [
              "MultinomialNB()"
            ],
            "text/html": [
              "<style>#sk-container-id-1 {color: black;background-color: white;}#sk-container-id-1 pre{padding: 0;}#sk-container-id-1 div.sk-toggleable {background-color: white;}#sk-container-id-1 label.sk-toggleable__label {cursor: pointer;display: block;width: 100%;margin-bottom: 0;padding: 0.3em;box-sizing: border-box;text-align: center;}#sk-container-id-1 label.sk-toggleable__label-arrow:before {content: \"▸\";float: left;margin-right: 0.25em;color: #696969;}#sk-container-id-1 label.sk-toggleable__label-arrow:hover:before {color: black;}#sk-container-id-1 div.sk-estimator:hover label.sk-toggleable__label-arrow:before {color: black;}#sk-container-id-1 div.sk-toggleable__content {max-height: 0;max-width: 0;overflow: hidden;text-align: left;background-color: #f0f8ff;}#sk-container-id-1 div.sk-toggleable__content pre {margin: 0.2em;color: black;border-radius: 0.25em;background-color: #f0f8ff;}#sk-container-id-1 input.sk-toggleable__control:checked~div.sk-toggleable__content {max-height: 200px;max-width: 100%;overflow: auto;}#sk-container-id-1 input.sk-toggleable__control:checked~label.sk-toggleable__label-arrow:before {content: \"▾\";}#sk-container-id-1 div.sk-estimator input.sk-toggleable__control:checked~label.sk-toggleable__label {background-color: #d4ebff;}#sk-container-id-1 div.sk-label input.sk-toggleable__control:checked~label.sk-toggleable__label {background-color: #d4ebff;}#sk-container-id-1 input.sk-hidden--visually {border: 0;clip: rect(1px 1px 1px 1px);clip: rect(1px, 1px, 1px, 1px);height: 1px;margin: -1px;overflow: hidden;padding: 0;position: absolute;width: 1px;}#sk-container-id-1 div.sk-estimator {font-family: monospace;background-color: #f0f8ff;border: 1px dotted black;border-radius: 0.25em;box-sizing: border-box;margin-bottom: 0.5em;}#sk-container-id-1 div.sk-estimator:hover {background-color: #d4ebff;}#sk-container-id-1 div.sk-parallel-item::after {content: \"\";width: 100%;border-bottom: 1px solid gray;flex-grow: 1;}#sk-container-id-1 div.sk-label:hover label.sk-toggleable__label {background-color: #d4ebff;}#sk-container-id-1 div.sk-serial::before {content: \"\";position: absolute;border-left: 1px solid gray;box-sizing: border-box;top: 0;bottom: 0;left: 50%;z-index: 0;}#sk-container-id-1 div.sk-serial {display: flex;flex-direction: column;align-items: center;background-color: white;padding-right: 0.2em;padding-left: 0.2em;position: relative;}#sk-container-id-1 div.sk-item {position: relative;z-index: 1;}#sk-container-id-1 div.sk-parallel {display: flex;align-items: stretch;justify-content: center;background-color: white;position: relative;}#sk-container-id-1 div.sk-item::before, #sk-container-id-1 div.sk-parallel-item::before {content: \"\";position: absolute;border-left: 1px solid gray;box-sizing: border-box;top: 0;bottom: 0;left: 50%;z-index: -1;}#sk-container-id-1 div.sk-parallel-item {display: flex;flex-direction: column;z-index: 1;position: relative;background-color: white;}#sk-container-id-1 div.sk-parallel-item:first-child::after {align-self: flex-end;width: 50%;}#sk-container-id-1 div.sk-parallel-item:last-child::after {align-self: flex-start;width: 50%;}#sk-container-id-1 div.sk-parallel-item:only-child::after {width: 0;}#sk-container-id-1 div.sk-dashed-wrapped {border: 1px dashed gray;margin: 0 0.4em 0.5em 0.4em;box-sizing: border-box;padding-bottom: 0.4em;background-color: white;}#sk-container-id-1 div.sk-label label {font-family: monospace;font-weight: bold;display: inline-block;line-height: 1.2em;}#sk-container-id-1 div.sk-label-container {text-align: center;}#sk-container-id-1 div.sk-container {/* jupyter's `normalize.less` sets `[hidden] { display: none; }` but bootstrap.min.css set `[hidden] { display: none !important; }` so we also need the `!important` here to be able to override the default hidden behavior on the sphinx rendered scikit-learn.org. See: https://github.com/scikit-learn/scikit-learn/issues/21755 */display: inline-block !important;position: relative;}#sk-container-id-1 div.sk-text-repr-fallback {display: none;}</style><div id=\"sk-container-id-1\" class=\"sk-top-container\"><div class=\"sk-text-repr-fallback\"><pre>MultinomialNB()</pre><b>In a Jupyter environment, please rerun this cell to show the HTML representation or trust the notebook. <br />On GitHub, the HTML representation is unable to render, please try loading this page with nbviewer.org.</b></div><div class=\"sk-container\" hidden><div class=\"sk-item\"><div class=\"sk-estimator sk-toggleable\"><input class=\"sk-toggleable__control sk-hidden--visually\" id=\"sk-estimator-id-1\" type=\"checkbox\" checked><label for=\"sk-estimator-id-1\" class=\"sk-toggleable__label sk-toggleable__label-arrow\">MultinomialNB</label><div class=\"sk-toggleable__content\"><pre>MultinomialNB()</pre></div></div></div></div></div>"
            ]
          },
          "metadata": {},
          "execution_count": 25
        }
      ]
    },
    {
      "cell_type": "code",
      "source": [
        "y_pred= model.predict(x_train)"
      ],
      "metadata": {
        "id": "gyyW-U7-cLrj"
      },
      "execution_count": null,
      "outputs": []
    },
    {
      "cell_type": "code",
      "source": [
        "#Confusion Matrix\n",
        "matrix = confusion_matrix(y_train, y_pred)\n",
        "\n",
        "plt.figure(figsize = (4, 3))\n",
        "sns.heatmap(matrix, annot = True, fmt = 'd', cmap = 'Greens', cbar = False,\n",
        "           xticklabels = ['Predicted Ham', 'Predicted Spam'],\n",
        "           yticklabels = ['True Ham', 'True Spam'])\n",
        "plt.title('Confusion Matrix')\n",
        "plt.show()"
      ],
      "metadata": {
        "colab": {
          "base_uri": "https://localhost:8080/",
          "height": 314
        },
        "id": "lHHD5rbIec_2",
        "outputId": "9aab34a5-c657-4826-cfcb-d1e4c2392dcb"
      },
      "execution_count": null,
      "outputs": [
        {
          "output_type": "display_data",
          "data": {
            "text/plain": [
              "<Figure size 400x300 with 1 Axes>"
            ],
            "image/png": "[encoded data removed]"
          },
          "metadata": {}
        }
      ]
    },
    {
      "cell_type": "code",
      "source": [
        "#model evaluation\n",
        "Accuracy=accuracy_score(y_train, y_pred)\n",
        "Recall=recall_score(y_train, y_pred)\n",
        "Precision=precision_score(y_train, y_pred)\n",
        "print(Accuracy)\n",
        "print(Recall)\n",
        "print(Precision)"
      ],
      "metadata": {
        "colab": {
          "base_uri": "https://localhost:8080/"
        },
        "id": "okadAalqcqzf",
        "outputId": "1ba11f66-7319-47ce-9a63-c1dd4a7bc7bf"
      },
      "execution_count": null,
      "outputs": [
        {
          "output_type": "stream",
          "name": "stdout",
          "text": [
            "0.9824390243902439\n",
            "0.9799599198396793\n",
            "0.9839034205231388\n"
          ]
        }
      ]
    },
    {
      "cell_type": "code",
      "source": [
        "x1=[\"offer flat 50% off\",\"Team meeting rescheduled to 2 PM\",\"Congratulations! You've won a prize.\",\"Congratulations! You have got the job\"]\n",
        "x1=cv.transform(x1)\n",
        "y_pred_1=model.predict(x1)\n",
        "for prediction in (y_pred_1):\n",
        "    label = \"Spam\" if prediction == 1 else \"Ham\"\n",
        "    print(f\"Prediction: {label}\")\n",
        "\n",
        "\n"
      ],
      "metadata": {
        "colab": {
          "base_uri": "https://localhost:8080/"
        },
        "id": "kntvCXSjP0WE",
        "outputId": "2dab62ce-a9f3-4021-ba8c-e9fe4e933458"
      },
      "execution_count": null,
      "outputs": [
        {
          "output_type": "stream",
          "name": "stdout",
          "text": [
            "Prediction: Spam\n",
            "Prediction: Ham\n",
            "Prediction: Spam\n",
            "Prediction: Ham\n"
          ]
        }
      ]
    },
    {
      "cell_type": "markdown",
      "source": [
        "## **Compression Model**\n",
        "\n"
      ],
      "metadata": {
        "id": "IGRQgAuYf1eU"
      }
    },
    {
      "cell_type": "code",
      "source": [
        "from sklearn.datasets import fetch_20newsgroups\n",
        "\n",
        "categories = [\n",
        "    'alt.atheism',\n",
        "    'talk.religion.misc',\n",
        "    'comp.graphics',\n",
        "    'sci.space'\n",
        "]\n",
        "\n",
        "train = fetch_20newsgroups(\n",
        "    subset='train',\n",
        "    categories=categories\n",
        ")"
      ],
      "metadata": {
        "id": "0NShu6iLPPnx"
      },
      "execution_count": null,
      "outputs": []
    },
    {
      "cell_type": "code",
      "source": [
        "from collections import defaultdict\n",
        "\n",
        "label_texts = defaultdict(str)\n",
        "\n",
        "for i, text in enumerate(train['data']):\n",
        "    label = train['target_names'][train['target'][i]]\n",
        "    label_texts[label] += ' ' + text.lower()"
      ],
      "metadata": {
        "id": "t7W2Kc40Pe5M"
      },
      "execution_count": null,
      "outputs": []
    },
    {
      "cell_type": "markdown",
      "source": [
        "**GZIP**"
      ],
      "metadata": {
        "id": "tyeeUqbVPkza"
      }
    },
    {
      "cell_type": "code",
      "source": [
        "import gzip\n",
        "\n",
        "METHOD = gzip\n",
        "\n",
        "original_sizes = {\n",
        "    label: len(METHOD.compress(text.encode()))\n",
        "    for label, text in label_texts.items()\n",
        "}\n",
        "\n",
        "print(original_sizes)\n"
      ],
      "metadata": {
        "colab": {
          "base_uri": "https://localhost:8080/"
        },
        "id": "mxb58bqXPhyZ",
        "outputId": "b6f3333d-2361-4973-cb97-5062e61a9e8e"
      },
      "execution_count": null,
      "outputs": [
        {
          "output_type": "stream",
          "name": "stdout",
          "text": [
            "{'comp.graphics': 338469, 'talk.religion.misc': 316933, 'sci.space': 453413, 'alt.atheism': 380316}\n"
          ]
        }
      ]
    },
    {
      "cell_type": "code",
      "source": [
        "test = fetch_20newsgroups(subset='test', categories=categories)\n",
        "predictions = []\n",
        "\n",
        "for text in test['data']:\n",
        "\n",
        "    sizes = {\n",
        "        label: len(METHOD.compress(f'{label_text} {text.lower()}'.encode()))\n",
        "        for label, label_text in label_texts.items()\n",
        "    }\n",
        "\n",
        "    predicted_label = min(\n",
        "        sizes,\n",
        "        key=lambda label: sizes[label] - original_sizes[label]\n",
        "    )\n",
        "\n",
        "    predictions.append(predicted_label)"
      ],
      "metadata": {
        "id": "x5wTruwCPuSX"
      },
      "execution_count": null,
      "outputs": []
    },
    {
      "cell_type": "code",
      "source": [
        "from sklearn.metrics import classification_report\n",
        "\n",
        "test_labels = [\n",
        "    test['target_names'][label]\n",
        "    for label in test['target']\n",
        "]\n",
        "\n",
        "print(classification_report(\n",
        "    test_labels,\n",
        "    predictions,\n",
        "    digits=3\n",
        "))"
      ],
      "metadata": {
        "colab": {
          "base_uri": "https://localhost:8080/"
        },
        "id": "WP71861GPyGE",
        "outputId": "3b55f0ee-44de-4853-b338-3eb4c9b08210"
      },
      "execution_count": null,
      "outputs": [
        {
          "output_type": "stream",
          "name": "stdout",
          "text": [
            "                    precision    recall  f1-score   support\n",
            "\n",
            "       alt.atheism      0.678     0.680     0.679       319\n",
            "     comp.graphics      0.784     0.897     0.837       389\n",
            "         sci.space      0.878     0.746     0.807       394\n",
            "talk.religion.misc      0.609     0.614     0.611       251\n",
            "\n",
            "          accuracy                          0.749      1353\n",
            "         macro avg      0.737     0.734     0.733      1353\n",
            "      weighted avg      0.754     0.749     0.749      1353\n",
            "\n"
          ]
        }
      ]
    },
    {
      "cell_type": "markdown",
      "source": [
        "Zlib"
      ],
      "metadata": {
        "id": "6VxgmRhNSRQw"
      }
    },
    {
      "cell_type": "code",
      "source": [
        "import zlib\n",
        "\n",
        "METHOD = zlib\n",
        "\n",
        "original_sizes = {\n",
        "    label: len(METHOD.compress(text.encode()))\n",
        "    for label, text in label_texts.items()\n",
        "}\n",
        "\n",
        "print(original_sizes)\n"
      ],
      "metadata": {
        "colab": {
          "base_uri": "https://localhost:8080/"
        },
        "id": "Mf4lRpzdSQcu",
        "outputId": "fdbe3328-6ce2-45d6-a849-34b75de5f137"
      },
      "execution_count": null,
      "outputs": [
        {
          "output_type": "stream",
          "name": "stdout",
          "text": [
            "{'comp.graphics': 339049, 'talk.religion.misc': 317659, 'sci.space': 454239, 'alt.atheism': 381327}\n"
          ]
        }
      ]
    },
    {
      "cell_type": "code",
      "source": [
        "test = fetch_20newsgroups(subset='test', categories=categories)\n",
        "predictions = []\n",
        "\n",
        "for text in test['data']:\n",
        "\n",
        "    sizes = {\n",
        "        label: len(METHOD.compress(f'{label_text} {text.lower()}'.encode()))\n",
        "        for label, label_text in label_texts.items()\n",
        "    }\n",
        "\n",
        "    predicted_label = min(\n",
        "        sizes,\n",
        "        key=lambda label: sizes[label] - original_sizes[label]\n",
        "    )\n",
        "\n",
        "    predictions.append(predicted_label)"
      ],
      "metadata": {
        "id": "JiZE1CrmSXsY"
      },
      "execution_count": null,
      "outputs": []
    },
    {
      "cell_type": "code",
      "source": [
        "from sklearn.metrics import classification_report\n",
        "\n",
        "test_labels = [\n",
        "    test['target_names'][label]\n",
        "    for label in test['target']\n",
        "]\n",
        "\n",
        "print(classification_report(\n",
        "    test_labels,\n",
        "    predictions,\n",
        "    digits=3\n",
        "))"
      ],
      "metadata": {
        "colab": {
          "base_uri": "https://localhost:8080/"
        },
        "id": "D-okpWc5Scz8",
        "outputId": "3e685ace-8f8d-476c-bf98-dd2a8f95240f"
      },
      "execution_count": null,
      "outputs": [
        {
          "output_type": "stream",
          "name": "stdout",
          "text": [
            "                    precision    recall  f1-score   support\n",
            "\n",
            "       alt.atheism      0.656     0.687     0.671       319\n",
            "     comp.graphics      0.782     0.902     0.838       389\n",
            "         sci.space      0.880     0.744     0.806       394\n",
            "talk.religion.misc      0.612     0.578     0.594       251\n",
            "\n",
            "          accuracy                          0.745      1353\n",
            "         macro avg      0.732     0.728     0.727      1353\n",
            "      weighted avg      0.749     0.745     0.744      1353\n",
            "\n"
          ]
        }
      ]
    },
    {
      "cell_type": "markdown",
      "source": [
        "BZ2"
      ],
      "metadata": {
        "id": "HrjwHjYGSgmC"
      }
    },
    {
      "cell_type": "code",
      "source": [
        "import bz2\n",
        "\n",
        "METHOD = bz2\n",
        "\n",
        "original_sizes = {\n",
        "    label: len(METHOD.compress(text.encode()))\n",
        "    for label, text in label_texts.items()\n",
        "}\n",
        "\n",
        "print(original_sizes)\n"
      ],
      "metadata": {
        "colab": {
          "base_uri": "https://localhost:8080/"
        },
        "id": "t0JbxQBrUCVY",
        "outputId": "0364f110-2367-4333-ce64-88ad93d577a1"
      },
      "execution_count": null,
      "outputs": [
        {
          "output_type": "stream",
          "name": "stdout",
          "text": [
            "{'comp.graphics': 256379, 'talk.religion.misc': 225775, 'sci.space': 338709, 'alt.atheism': 274586}\n"
          ]
        }
      ]
    },
    {
      "cell_type": "code",
      "source": [
        "test = fetch_20newsgroups(subset='test', categories=categories)\n",
        "predictions = []\n",
        "\n",
        "for text in test['data']:\n",
        "\n",
        "    sizes = {\n",
        "        label: len(METHOD.compress(f'{label_text} {text.lower()}'.encode()))\n",
        "        for label, label_text in label_texts.items()\n",
        "    }\n",
        "\n",
        "    predicted_label = min(\n",
        "        sizes,\n",
        "        key=lambda label: sizes[label] - original_sizes[label]\n",
        "    )\n",
        "\n",
        "    predictions.append(predicted_label)"
      ],
      "metadata": {
        "id": "CRHJ61FgUIzD"
      },
      "execution_count": null,
      "outputs": []
    },
    {
      "cell_type": "code",
      "source": [
        "from sklearn.metrics import classification_report\n",
        "\n",
        "test_labels = [\n",
        "    test['target_names'][label]\n",
        "    for label in test['target']\n",
        "]\n",
        "\n",
        "print(classification_report(\n",
        "    test_labels,\n",
        "    predictions,\n",
        "    digits=3\n",
        "))"
      ],
      "metadata": {
        "colab": {
          "base_uri": "https://localhost:8080/"
        },
        "id": "urpo45n2UMEk",
        "outputId": "9cb730f2-e78c-43df-d503-5951d495ab20"
      },
      "execution_count": null,
      "outputs": [
        {
          "output_type": "stream",
          "name": "stdout",
          "text": [
            "                    precision    recall  f1-score   support\n",
            "\n",
            "       alt.atheism      0.648     0.110     0.188       319\n",
            "     comp.graphics      0.732     0.584     0.649       389\n",
            "         sci.space      0.923     0.305     0.458       394\n",
            "talk.religion.misc      0.271     0.928     0.420       251\n",
            "\n",
            "          accuracy                          0.455      1353\n",
            "         macro avg      0.644     0.482     0.429      1353\n",
            "      weighted avg      0.682     0.455     0.442      1353\n",
            "\n"
          ]
        }
      ]
    },
    {
      "cell_type": "markdown",
      "source": [
        "LZMA"
      ],
      "metadata": {
        "id": "ThcgAeN6SlFg"
      }
    },
    {
      "cell_type": "code",
      "source": [
        "import lzma\n",
        "\n",
        "METHOD = lzma\n",
        "\n",
        "original_sizes = {\n",
        "    label: len(METHOD.compress(text.encode()))\n",
        "    for label, text in label_texts.items()\n",
        "}\n",
        "\n",
        "print(original_sizes)\n"
      ],
      "metadata": {
        "colab": {
          "base_uri": "https://localhost:8080/"
        },
        "id": "RA-ItVGEXI_v",
        "outputId": "cb71c881-eb7c-41de-cffa-ca2c4a0bbb09"
      },
      "execution_count": null,
      "outputs": [
        {
          "output_type": "stream",
          "name": "stdout",
          "text": [
            "{'comp.graphics': 252268, 'talk.religion.misc': 224228, 'sci.space': 310524, 'alt.atheism': 266440}\n"
          ]
        }
      ]
    },
    {
      "cell_type": "code",
      "source": [
        "test = fetch_20newsgroups(subset='test', categories=categories)\n",
        "predictions = []\n",
        "\n",
        "for text in test['data']:\n",
        "\n",
        "    sizes = {\n",
        "        label: len(METHOD.compress(f'{label_text} {text.lower()}'.encode()))\n",
        "        for label, label_text in label_texts.items()\n",
        "    }\n",
        "\n",
        "    predicted_label = min(\n",
        "        sizes,\n",
        "        key=lambda label: sizes[label] - original_sizes[label]\n",
        "    )\n",
        "\n",
        "    predictions.append(predicted_label)"
      ],
      "metadata": {
        "id": "f0x2LuOOXOfx"
      },
      "execution_count": null,
      "outputs": []
    },
    {
      "cell_type": "code",
      "source": [
        "from sklearn.metrics import classification_report\n",
        "\n",
        "test_labels = [\n",
        "    test['target_names'][label]\n",
        "    for label in test['target']\n",
        "]\n",
        "\n",
        "print(classification_report(\n",
        "    test_labels,\n",
        "    predictions,\n",
        "    digits=3\n",
        "))"
      ],
      "metadata": {
        "colab": {
          "base_uri": "https://localhost:8080/"
        },
        "id": "s7PQrkx1XRZk",
        "outputId": "da4674c3-ce32-4628-c997-289d06496aa4"
      },
      "execution_count": null,
      "outputs": [
        {
          "output_type": "stream",
          "name": "stdout",
          "text": [
            "                    precision    recall  f1-score   support\n",
            "\n",
            "       alt.atheism      0.851     0.875     0.862       319\n",
            "     comp.graphics      0.923     0.959     0.941       389\n",
            "         sci.space      0.927     0.934     0.930       394\n",
            "talk.religion.misc      0.866     0.773     0.817       251\n",
            "\n",
            "          accuracy                          0.897      1353\n",
            "         macro avg      0.892     0.885     0.888      1353\n",
            "      weighted avg      0.897     0.897     0.896      1353\n",
            "\n"
          ]
        }
      ]
    },
    {
      "cell_type": "code",
      "source": [
        "from sklearn.metrics import confusion_matrix\n",
        "import seaborn as sns\n",
        "import matplotlib.pyplot as plt\n",
        "conf_matrix = confusion_matrix(test_labels, predictions)\n",
        "plt.figure(figsize=(8, 6))\n",
        "sns.heatmap(conf_matrix, annot = True, fmt = 'd', cmap = 'Greens', cbar = False,xticklabels=['alt.atheism', 'comp.graphics', 'sci.space', 'talk.religion.misc'],yticklabels=['alt.atheism', 'comp.graphics', 'sci.space','talk.religion.misc'])\n",
        "plt.xlabel('Predicted')\n",
        "plt.ylabel('True')\n",
        "plt.title('Confusion Matrix')\n",
        "plt.show()"
      ],
      "metadata": {
        "colab": {
          "base_uri": "https://localhost:8080/",
          "height": 533
        },
        "id": "EPiw1cCAoqY4",
        "outputId": "fe47c1f7-61de-434c-aa03-eb8c8cdd74a5"
      },
      "execution_count": null,
      "outputs": [
        {
          "output_type": "display_data",
          "data": {
            "text/plain": [
              "<Figure size 800x600 with 1 Axes>"
            ],
            "image/png": "[encoded data removed]"
          },
          "metadata": {}
        }
      ]
    }
  ]
}